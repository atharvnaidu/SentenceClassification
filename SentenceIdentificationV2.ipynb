{
  "nbformat": 4,
  "nbformat_minor": 0,
  "metadata": {
    "colab": {
      "provenance": [],
      "authorship_tag": "ABX9TyNL6t3V7IWYSc5a6HKvk89+",
      "include_colab_link": true
    },
    "kernelspec": {
      "name": "python3",
      "display_name": "Python 3"
    },
    "language_info": {
      "name": "python"
    }
  },
  "cells": [
    {
      "cell_type": "markdown",
      "metadata": {
        "id": "view-in-github",
        "colab_type": "text"
      },
      "source": [
        "<a href=\"https://colab.research.google.com/github/atharvnaidu/SentenceClassification/blob/main/SentenceIdentificationV2.ipynb\" target=\"_parent\"><img src=\"https://colab.research.google.com/assets/colab-badge.svg\" alt=\"Open In Colab\"/></a>"
      ]
    },
    {
      "cell_type": "code",
      "source": [
        "##import statements:\n",
        "!pip install --upgrade torchtext\n",
        "\n",
        "import torch, torchtext\n",
        "from torch import nn\n",
        "from torch.utils.data import Dataset, DataLoader\n",
        "from torchtext.functional import to_tensor\n",
        "import os\n",
        "import pandas as pd\n",
        "from torchtext.data.utils import get_tokenizer\n",
        "from torchtext.vocab import build_vocab_from_iterator"
      ],
      "metadata": {
        "colab": {
          "base_uri": "https://localhost:8080/"
        },
        "id": "QD2y76sYxb6F",
        "outputId": "bf011a48-70be-47dd-d58b-c50cd8554e96"
      },
      "execution_count": 1,
      "outputs": [
        {
          "output_type": "stream",
          "name": "stdout",
          "text": [
            "Requirement already satisfied: torchtext in /usr/local/lib/python3.10/dist-packages (0.18.0)\n",
            "Requirement already satisfied: tqdm in /usr/local/lib/python3.10/dist-packages (from torchtext) (4.66.5)\n",
            "Requirement already satisfied: requests in /usr/local/lib/python3.10/dist-packages (from torchtext) (2.32.3)\n",
            "Requirement already satisfied: torch>=2.3.0 in /usr/local/lib/python3.10/dist-packages (from torchtext) (2.3.1+cu121)\n",
            "Requirement already satisfied: numpy in /usr/local/lib/python3.10/dist-packages (from torchtext) (1.26.4)\n",
            "Requirement already satisfied: filelock in /usr/local/lib/python3.10/dist-packages (from torch>=2.3.0->torchtext) (3.15.4)\n",
            "Requirement already satisfied: typing-extensions>=4.8.0 in /usr/local/lib/python3.10/dist-packages (from torch>=2.3.0->torchtext) (4.12.2)\n",
            "Requirement already satisfied: sympy in /usr/local/lib/python3.10/dist-packages (from torch>=2.3.0->torchtext) (1.13.1)\n",
            "Requirement already satisfied: networkx in /usr/local/lib/python3.10/dist-packages (from torch>=2.3.0->torchtext) (3.3)\n",
            "Requirement already satisfied: jinja2 in /usr/local/lib/python3.10/dist-packages (from torch>=2.3.0->torchtext) (3.1.4)\n",
            "Requirement already satisfied: fsspec in /usr/local/lib/python3.10/dist-packages (from torch>=2.3.0->torchtext) (2024.6.1)\n",
            "Requirement already satisfied: nvidia-cuda-nvrtc-cu12==12.1.105 in /usr/local/lib/python3.10/dist-packages (from torch>=2.3.0->torchtext) (12.1.105)\n",
            "Requirement already satisfied: nvidia-cuda-runtime-cu12==12.1.105 in /usr/local/lib/python3.10/dist-packages (from torch>=2.3.0->torchtext) (12.1.105)\n",
            "Requirement already satisfied: nvidia-cuda-cupti-cu12==12.1.105 in /usr/local/lib/python3.10/dist-packages (from torch>=2.3.0->torchtext) (12.1.105)\n",
            "Requirement already satisfied: nvidia-cudnn-cu12==8.9.2.26 in /usr/local/lib/python3.10/dist-packages (from torch>=2.3.0->torchtext) (8.9.2.26)\n",
            "Requirement already satisfied: nvidia-cublas-cu12==12.1.3.1 in /usr/local/lib/python3.10/dist-packages (from torch>=2.3.0->torchtext) (12.1.3.1)\n",
            "Requirement already satisfied: nvidia-cufft-cu12==11.0.2.54 in /usr/local/lib/python3.10/dist-packages (from torch>=2.3.0->torchtext) (11.0.2.54)\n",
            "Requirement already satisfied: nvidia-curand-cu12==10.3.2.106 in /usr/local/lib/python3.10/dist-packages (from torch>=2.3.0->torchtext) (10.3.2.106)\n",
            "Requirement already satisfied: nvidia-cusolver-cu12==11.4.5.107 in /usr/local/lib/python3.10/dist-packages (from torch>=2.3.0->torchtext) (11.4.5.107)\n",
            "Requirement already satisfied: nvidia-cusparse-cu12==12.1.0.106 in /usr/local/lib/python3.10/dist-packages (from torch>=2.3.0->torchtext) (12.1.0.106)\n",
            "Requirement already satisfied: nvidia-nccl-cu12==2.20.5 in /usr/local/lib/python3.10/dist-packages (from torch>=2.3.0->torchtext) (2.20.5)\n",
            "Requirement already satisfied: nvidia-nvtx-cu12==12.1.105 in /usr/local/lib/python3.10/dist-packages (from torch>=2.3.0->torchtext) (12.1.105)\n",
            "Requirement already satisfied: triton==2.3.1 in /usr/local/lib/python3.10/dist-packages (from torch>=2.3.0->torchtext) (2.3.1)\n",
            "Requirement already satisfied: nvidia-nvjitlink-cu12 in /usr/local/lib/python3.10/dist-packages (from nvidia-cusolver-cu12==11.4.5.107->torch>=2.3.0->torchtext) (12.6.20)\n",
            "Requirement already satisfied: charset-normalizer<4,>=2 in /usr/local/lib/python3.10/dist-packages (from requests->torchtext) (3.3.2)\n",
            "Requirement already satisfied: idna<4,>=2.5 in /usr/local/lib/python3.10/dist-packages (from requests->torchtext) (3.7)\n",
            "Requirement already satisfied: urllib3<3,>=1.21.1 in /usr/local/lib/python3.10/dist-packages (from requests->torchtext) (2.0.7)\n",
            "Requirement already satisfied: certifi>=2017.4.17 in /usr/local/lib/python3.10/dist-packages (from requests->torchtext) (2024.7.4)\n",
            "Requirement already satisfied: MarkupSafe>=2.0 in /usr/local/lib/python3.10/dist-packages (from jinja2->torch>=2.3.0->torchtext) (2.1.5)\n",
            "Requirement already satisfied: mpmath<1.4,>=1.1.0 in /usr/local/lib/python3.10/dist-packages (from sympy->torch>=2.3.0->torchtext) (1.3.0)\n"
          ]
        },
        {
          "output_type": "stream",
          "name": "stderr",
          "text": [
            "/usr/local/lib/python3.10/dist-packages/torchtext/functional.py:4: UserWarning: \n",
            "/!\\ IMPORTANT WARNING ABOUT TORCHTEXT STATUS /!\\ \n",
            "Torchtext is deprecated and the last released version will be 0.18 (this one). You can silence this warning by calling the following at the beginnign of your scripts: `import torchtext; torchtext.disable_torchtext_deprecation_warning()`\n",
            "  warnings.warn(torchtext._TORCHTEXT_DEPRECATION_MSG)\n",
            "/usr/local/lib/python3.10/dist-packages/torchtext/data/__init__.py:4: UserWarning: \n",
            "/!\\ IMPORTANT WARNING ABOUT TORCHTEXT STATUS /!\\ \n",
            "Torchtext is deprecated and the last released version will be 0.18 (this one). You can silence this warning by calling the following at the beginnign of your scripts: `import torchtext; torchtext.disable_torchtext_deprecation_warning()`\n",
            "  warnings.warn(torchtext._TORCHTEXT_DEPRECATION_MSG)\n",
            "/usr/local/lib/python3.10/dist-packages/torchtext/vocab/__init__.py:4: UserWarning: \n",
            "/!\\ IMPORTANT WARNING ABOUT TORCHTEXT STATUS /!\\ \n",
            "Torchtext is deprecated and the last released version will be 0.18 (this one). You can silence this warning by calling the following at the beginnign of your scripts: `import torchtext; torchtext.disable_torchtext_deprecation_warning()`\n",
            "  warnings.warn(torchtext._TORCHTEXT_DEPRECATION_MSG)\n",
            "/usr/local/lib/python3.10/dist-packages/torchtext/utils.py:4: UserWarning: \n",
            "/!\\ IMPORTANT WARNING ABOUT TORCHTEXT STATUS /!\\ \n",
            "Torchtext is deprecated and the last released version will be 0.18 (this one). You can silence this warning by calling the following at the beginnign of your scripts: `import torchtext; torchtext.disable_torchtext_deprecation_warning()`\n",
            "  warnings.warn(torchtext._TORCHTEXT_DEPRECATION_MSG)\n"
          ]
        }
      ]
    },
    {
      "cell_type": "code",
      "source": [
        "device = 'cuda' if torch.cuda.is_available() else 'cpu'"
      ],
      "metadata": {
        "id": "Mc-g4tkq6PIu"
      },
      "execution_count": 2,
      "outputs": []
    },
    {
      "cell_type": "code",
      "source": [
        "def transformSentence(sentence, maxLength):\n",
        "  tokenizer = torchtext.data.utils.get_tokenizer('basic_english')\n",
        "  tokens = tokenizer(sentence)\n",
        "  vocab = build_vocab_from_iterator([tokens])\n",
        "  ids = [float(vocab[token]) for token in tokens]\n",
        "  padded_ids = torch.nn.functional.pad(torch.tensor(ids), (0, maxLength - len(ids)))\n",
        "  return padded_ids\n",
        "\n",
        "def transformLabel(label):\n",
        "  return torch.tensor(label).long()"
      ],
      "metadata": {
        "id": "U6cKXaBVx9u8"
      },
      "execution_count": 3,
      "outputs": []
    },
    {
      "cell_type": "code",
      "source": [
        "class CustomSentenceDataset(Dataset):\n",
        "    def __init__(self, csv, transform=None, target_transform=None):\n",
        "        self.csv = csv\n",
        "        self.transform = transform\n",
        "        self.target_transform = target_transform\n",
        "        self.data = pd.read_csv(self.csv).iloc[:200]\n",
        "        self.maxLength = 50\n",
        "\n",
        "    def __len__(self):\n",
        "        return len(self.data)\n",
        "\n",
        "    def __getitem__(self, idx):\n",
        "        sentence = self.data.iloc[idx, 0]\n",
        "        label = self.data.iloc[idx, 2]\n",
        "        if self.transform:\n",
        "            sentence = self.transform(sentence, self.maxLength)\n",
        "        if self.target_transform:\n",
        "            label = self.target_transform(label)\n",
        "        return sentence, label"
      ],
      "metadata": {
        "id": "1MJN6XsVxjBj"
      },
      "execution_count": 4,
      "outputs": []
    },
    {
      "cell_type": "code",
      "source": [
        "training_data = CustomSentenceDataset(\"/content/questions_vs_statements_v1.0.csv\",\n",
        "                                      transform=transformSentence, target_transform=transformLabel)\n",
        "batch_size = 8\n",
        "train_dataloader = DataLoader(training_data, batch_size=batch_size, shuffle=True)\n",
        "train_features, train_labels = next(iter(train_dataloader))\n",
        "train_labels = train_labels.long()\n",
        "print(train_labels)"
      ],
      "metadata": {
        "colab": {
          "base_uri": "https://localhost:8080/"
        },
        "id": "zU2smJXRymrf",
        "outputId": "4bd04f46-e6fe-4d73-ad1b-43bfb2e7e37b"
      },
      "execution_count": 5,
      "outputs": [
        {
          "output_type": "stream",
          "name": "stdout",
          "text": [
            "tensor([1, 1, 1, 0, 1, 1, 0, 1])\n"
          ]
        }
      ]
    },
    {
      "cell_type": "code",
      "source": [
        "class NeuralNetwork(nn.Module):\n",
        "    def __init__(self):\n",
        "        super().__init__()\n",
        "        # Flatten starting from dimension 1 to handle batches correctly\n",
        "        self.flatten = nn.Flatten(start_dim=1)\n",
        "        self.linear_relu_stack = nn.Sequential(\n",
        "            nn.Linear(50, 50//2),\n",
        "            nn.ReLU(),\n",
        "            nn.Linear(50//2, 50//2),\n",
        "            nn.ReLU(),\n",
        "            nn.Linear(50//2, 2)\n",
        "        )\n",
        "\n",
        "    def forward(self, x):\n",
        "        x = self.flatten(x)\n",
        "        logits = self.linear_relu_stack(x)\n",
        "        return logits\n",
        "\n",
        "model = NeuralNetwork()\n"
      ],
      "metadata": {
        "id": "yYn8Kl750kRi"
      },
      "execution_count": 6,
      "outputs": []
    },
    {
      "cell_type": "code",
      "source": [
        "def train_loop(dataloader, model, loss_fn, optimizer):\n",
        "    size = len(dataloader.dataset)\n",
        "    # Set the model to training mode - important for batch normalization and dropout layers\n",
        "    # Unnecessary in this situation but added for best practices\n",
        "    model.train()\n",
        "    for batch, (X, y) in enumerate(dataloader):\n",
        "        # Compute prediction and loss\n",
        "        pred = model(X)\n",
        "        loss = loss_fn(pred, y)\n",
        "\n",
        "        # Backpropagation\n",
        "        loss.backward()\n",
        "        optimizer.step()\n",
        "        optimizer.zero_grad()\n",
        "\n",
        "        if batch % 100 == 0:\n",
        "            loss, current = loss.item(), batch * batch_size + len(X)\n",
        "            print(f\"loss: {loss:>7f}  [{current:>5d}/{size:>5d}]\")\n",
        "\n",
        "\n",
        "def test_loop(dataloader, model, loss_fn):\n",
        "    # Set the model to evaluation mode - important for batch normalization and dropout layers\n",
        "    # Unnecessary in this situation but added for best practices\n",
        "    model.eval()\n",
        "    size = len(dataloader.dataset)\n",
        "    num_batches = len(dataloader)\n",
        "    test_loss, correct = 0, 0\n",
        "\n",
        "    # Evaluating the model with torch.no_grad() ensures that no gradients are computed during test mode\n",
        "    # also serves to reduce unnecessary gradient computations and memory usage for tensors with requires_grad=True\n",
        "    with torch.no_grad():\n",
        "        for X, y in dataloader:\n",
        "            pred = model(X)\n",
        "            test_loss += loss_fn(pred, y).item()\n",
        "            correct += (pred.argmax(1) == y).type(torch.float).sum().item()\n",
        "\n",
        "    test_loss /= num_batches\n",
        "    correct /= size\n",
        "    print(f\"Test Error: \\n Accuracy: {(100*correct):>0.1f}%, Avg loss: {test_loss:>8f} \\n\")"
      ],
      "metadata": {
        "id": "ZWichODK0uji"
      },
      "execution_count": 7,
      "outputs": []
    },
    {
      "cell_type": "code",
      "source": [
        "loss_fn = nn.CrossEntropyLoss()\n",
        "learning_rate = 1e-3\n",
        "optimizer = torch.optim.SGD(model.parameters(), lr=learning_rate)\n",
        "\n",
        "epochs = 20\n",
        "for t in range(epochs):\n",
        "    print(f\"Epoch {t+1}\\n-------------------------------\")\n",
        "    train_loop(train_dataloader, model, loss_fn, optimizer)\n",
        "    test_loop(train_dataloader, model, loss_fn)\n",
        "print(\"Done!\")"
      ],
      "metadata": {
        "colab": {
          "base_uri": "https://localhost:8080/"
        },
        "id": "YR9MCjSn01Ec",
        "outputId": "da50f357-b9c8-4388-845e-67084329dd90"
      },
      "execution_count": null,
      "outputs": [
        {
          "output_type": "stream",
          "name": "stdout",
          "text": [
            "Epoch 1\n",
            "-------------------------------\n",
            "loss: 0.650056  [    8/  200]\n",
            "Test Error: \n",
            " Accuracy: 51.0%, Avg loss: 0.721772 \n",
            "\n",
            "Epoch 2\n",
            "-------------------------------\n",
            "loss: 0.549681  [    8/  200]\n",
            "Test Error: \n",
            " Accuracy: 54.5%, Avg loss: 0.708001 \n",
            "\n",
            "Epoch 3\n",
            "-------------------------------\n",
            "loss: 0.711044  [    8/  200]\n",
            "Test Error: \n",
            " Accuracy: 54.5%, Avg loss: 0.696466 \n",
            "\n",
            "Epoch 4\n",
            "-------------------------------\n",
            "loss: 0.687148  [    8/  200]\n",
            "Test Error: \n",
            " Accuracy: 55.5%, Avg loss: 0.687497 \n",
            "\n",
            "Epoch 5\n",
            "-------------------------------\n",
            "loss: 0.743187  [    8/  200]\n",
            "Test Error: \n",
            " Accuracy: 56.5%, Avg loss: 0.679004 \n",
            "\n",
            "Epoch 6\n",
            "-------------------------------\n",
            "loss: 0.768542  [    8/  200]\n",
            "Test Error: \n",
            " Accuracy: 58.0%, Avg loss: 0.671396 \n",
            "\n",
            "Epoch 7\n",
            "-------------------------------\n",
            "loss: 0.606073  [    8/  200]\n",
            "Test Error: \n",
            " Accuracy: 58.0%, Avg loss: 0.664387 \n",
            "\n",
            "Epoch 8\n",
            "-------------------------------\n",
            "loss: 0.617234  [    8/  200]\n",
            "Test Error: \n",
            " Accuracy: 59.5%, Avg loss: 0.658363 \n",
            "\n",
            "Epoch 9\n",
            "-------------------------------\n",
            "loss: 0.536941  [    8/  200]\n",
            "Test Error: \n",
            " Accuracy: 61.0%, Avg loss: 0.651931 \n",
            "\n",
            "Epoch 10\n",
            "-------------------------------\n",
            "loss: 0.631258  [    8/  200]\n",
            "Test Error: \n",
            " Accuracy: 63.0%, Avg loss: 0.646286 \n",
            "\n",
            "Epoch 11\n",
            "-------------------------------\n",
            "loss: 0.633620  [    8/  200]\n",
            "Test Error: \n",
            " Accuracy: 64.5%, Avg loss: 0.640893 \n",
            "\n",
            "Epoch 12\n",
            "-------------------------------\n",
            "loss: 0.615027  [    8/  200]\n",
            "Test Error: \n",
            " Accuracy: 64.5%, Avg loss: 0.635305 \n",
            "\n",
            "Epoch 13\n",
            "-------------------------------\n",
            "loss: 0.554517  [    8/  200]\n",
            "Test Error: \n",
            " Accuracy: 65.0%, Avg loss: 0.630314 \n",
            "\n",
            "Epoch 14\n",
            "-------------------------------\n",
            "loss: 0.628848  [    8/  200]\n",
            "Test Error: \n",
            " Accuracy: 66.0%, Avg loss: 0.625378 \n",
            "\n",
            "Epoch 15\n",
            "-------------------------------\n",
            "loss: 0.524646  [    8/  200]\n"
          ]
        }
      ]
    },
    {
      "cell_type": "code",
      "source": [
        "# Save the trained model\n",
        "torch.save(model.state_dict(), 'trained_model_weights.pth')\n",
        "# Alternatively, save the entire model\n",
        "torch.save(model, 'trained_model.pth')"
      ],
      "metadata": {
        "id": "PAWwVNeP6H9W"
      },
      "execution_count": null,
      "outputs": []
    },
    {
      "cell_type": "code",
      "source": [
        "model.load_state_dict(torch.load('/content/trained_model_weights.pth'))\n",
        "model.eval()"
      ],
      "metadata": {
        "id": "8HFwUXWg6LiT"
      },
      "execution_count": null,
      "outputs": []
    },
    {
      "cell_type": "code",
      "source": [
        "def predict(sentence, model):\n",
        "    model.eval()\n",
        "    with torch.no_grad():\n",
        "        # Tokenize and transform the input sentence\n",
        "        transformedSentence = transformSentence(sentence, 100)\n",
        "        tensor = torch.unsqueeze(transformedSentence, 0)\n",
        "        logits = model(tensor)\n",
        "        pred_probab = nn.Softmax(dim=1)(logits)\n",
        "        pred_label = pred_probab.argmax(1).item()\n",
        "        return pred_label, pred_probab\n",
        "\n",
        "# Example sentence\n",
        "sentence = \" The President of BYU, currently Kevin J Worthen, reports to the Board, through the Commissioner of Education.\"\n",
        "pred_label, pred_probab = predict(sentence, model)\n",
        "print(f\"Predicted class: {pred_label}, Probabilities: {pred_probab}\")"
      ],
      "metadata": {
        "id": "suToXrss6eam"
      },
      "execution_count": null,
      "outputs": []
    }
  ]
}